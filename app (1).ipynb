{
 "cells": [
  {
   "cell_type": "code",
   "execution_count": null,
   "id": "3f5b1032",
   "metadata": {},
   "outputs": [],
   "source": [
    "import streamlit as st\n",
    "import numpy as np\n",
    "import joblib  \n",
    "\n",
    "# Load the trained model\n",
    "model = joblib.load(\"Farm_Irrigation_System.pkl\")  \n",
    "\n",
    "st.title(\"Smart Sprinkler System\")\n",
    "st.subheader(\"Enter scaled sensor values (0 to 1) to predict sprinkler status\")\n",
    "\n",
    "# Collect sensor inputs (scaled values)\n",
    "sensor_values = []\n",
    "for i in range(20):\n",
    "    val = st.slider(f\"Sensor {i}\", min_value=0.0, max_value=1.0, value=0.5, step=0.01)\n",
    "    sensor_values.append(val)\n",
    "\n",
    "# Predict button\n",
    "if st.button(\"Predict Sprinklers\"):\n",
    "    input_array = np.array(sensor_values).reshape(1, -1)\n",
    "    prediction = model.predict(input_array)[0]\n",
    "\n",
    "    st.markdown(\"### Prediction:\")\n",
    "    for i, status in enumerate(prediction):\n",
    "        st.write(f\"Sprinkler {i} (parcel_{i}): {'ON' if status == 1 else 'OFF'}\")\n"
   ]
  }
 ],
 "metadata": {},
 "nbformat": 4,
 "nbformat_minor": 5
}